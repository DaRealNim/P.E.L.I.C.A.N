{
 "cells": [
  {
   "cell_type": "code",
   "execution_count": 1,
   "id": "52f1015a",
   "metadata": {
    "execution": {
     "iopub.execute_input": "2023-12-03T19:09:55.054012Z",
     "iopub.status.busy": "2023-12-03T19:09:55.053093Z",
     "iopub.status.idle": "2023-12-03T19:09:55.998500Z",
     "shell.execute_reply": "2023-12-03T19:09:55.997269Z"
    },
    "papermill": {
     "duration": 0.952406,
     "end_time": "2023-12-03T19:09:56.000919",
     "exception": false,
     "start_time": "2023-12-03T19:09:55.048513",
     "status": "completed"
    },
    "tags": []
   },
   "outputs": [],
   "source": [
    "!rm -rf /kaggle/working/malware-model"
   ]
  },
  {
   "cell_type": "code",
   "execution_count": 2,
   "id": "354b0b23",
   "metadata": {
    "_cell_guid": "b1076dfc-b9ad-4769-8c92-a6c4dae69d19",
    "_uuid": "8f2839f25d086af736a60e9eeb907d3b93b6e0e5",
    "execution": {
     "iopub.execute_input": "2023-12-03T19:09:56.007894Z",
     "iopub.status.busy": "2023-12-03T19:09:56.007580Z",
     "iopub.status.idle": "2023-12-03T19:09:57.666518Z",
     "shell.execute_reply": "2023-12-03T19:09:57.665426Z"
    },
    "papermill": {
     "duration": 1.664978,
     "end_time": "2023-12-03T19:09:57.668768",
     "exception": false,
     "start_time": "2023-12-03T19:09:56.003790",
     "status": "completed"
    },
    "tags": []
   },
   "outputs": [
    {
     "name": "stdout",
     "output_type": "stream",
     "text": [
      "Cloning into 'malware-model'...\r\n",
      "remote: Enumerating objects: 10, done.\u001b[K\r\n",
      "remote: Counting objects: 100% (10/10), done.\u001b[K\r\n",
      "remote: Compressing objects: 100% (8/8), done.\u001b[K\r\n",
      "remote: Total 10 (delta 2), reused 10 (delta 2), pack-reused 0\u001b[K\r\n",
      "Receiving objects: 100% (10/10), 5.19 KiB | 1.73 MiB/s, done.\r\n",
      "Resolving deltas: 100% (2/2), done.\r\n"
     ]
    }
   ],
   "source": [
    "!git clone https://github.com/DaRealNim/malware-model.git"
   ]
  },
  {
   "cell_type": "code",
   "execution_count": 3,
   "id": "34c06791",
   "metadata": {
    "execution": {
     "iopub.execute_input": "2023-12-03T19:09:57.675842Z",
     "iopub.status.busy": "2023-12-03T19:09:57.675504Z",
     "iopub.status.idle": "2023-12-03T19:09:58.621727Z",
     "shell.execute_reply": "2023-12-03T19:09:58.620772Z"
    },
    "papermill": {
     "duration": 0.952206,
     "end_time": "2023-12-03T19:09:58.623862",
     "exception": false,
     "start_time": "2023-12-03T19:09:57.671656",
     "status": "completed"
    },
    "tags": []
   },
   "outputs": [
    {
     "name": "stdout",
     "output_type": "stream",
     "text": [
      "model.py  train.py\r\n"
     ]
    }
   ],
   "source": [
    "!ls /kaggle/working/malware-model"
   ]
  },
  {
   "cell_type": "code",
   "execution_count": 4,
   "id": "d4235f9a",
   "metadata": {
    "execution": {
     "iopub.execute_input": "2023-12-03T19:09:58.631226Z",
     "iopub.status.busy": "2023-12-03T19:09:58.630921Z",
     "iopub.status.idle": "2023-12-03T19:09:58.635484Z",
     "shell.execute_reply": "2023-12-03T19:09:58.634696Z"
    },
    "papermill": {
     "duration": 0.010603,
     "end_time": "2023-12-03T19:09:58.637522",
     "exception": false,
     "start_time": "2023-12-03T19:09:58.626919",
     "status": "completed"
    },
    "tags": []
   },
   "outputs": [],
   "source": [
    "datapath = \"/kaggle/input/malware-classification/preprocessed_data.pkl\"\n",
    "trainfile = \"/kaggle/working/malware-model/train.py\"\n",
    "checkpoints = \"/kaggle/working/checkpoints\""
   ]
  },
  {
   "cell_type": "code",
   "execution_count": 5,
   "id": "07f0ba27",
   "metadata": {
    "execution": {
     "iopub.execute_input": "2023-12-03T19:09:58.644391Z",
     "iopub.status.busy": "2023-12-03T19:09:58.643735Z",
     "iopub.status.idle": "2023-12-03T19:46:18.770032Z",
     "shell.execute_reply": "2023-12-03T19:46:18.768950Z"
    },
    "papermill": {
     "duration": 2180.132119,
     "end_time": "2023-12-03T19:46:18.772364",
     "exception": false,
     "start_time": "2023-12-03T19:09:58.640245",
     "status": "completed"
    },
    "tags": []
   },
   "outputs": [
    {
     "name": "stdout",
     "output_type": "stream",
     "text": [
      "/opt/conda/lib/python3.10/site-packages/scipy/__init__.py:146: UserWarning: A NumPy version >=1.16.5 and <1.23.0 is required for this version of SciPy (detected version 1.24.3\r\n",
      "  warnings.warn(f\"A NumPy version >={np_minversion} and <{np_maxversion}\"\r\n",
      "Epoch: 1/20\r\n",
      "\r\n",
      "  Loss: 0.026902687134815802\r\n",
      "\r\n",
      "  Accuracy\tPrecision\tRecall\tF1\tAUC\r\n",
      "  0.77\t\t0.54\t\t0.95\t0.69\t0.94\r\n",
      "\r\n",
      "\r\n",
      "Epoch: 2/20\r\n",
      "\r\n",
      "  Loss: 0.01240484628703961\r\n",
      "\r\n",
      "  Accuracy\tPrecision\tRecall\tF1\tAUC\r\n",
      "  0.75\t\t0.52\t\t0.98\t0.68\t0.98\r\n",
      "\r\n",
      "\r\n",
      "Epoch: 3/20\r\n",
      "\r\n",
      "  Loss: 0.005580907669169295\r\n",
      "\r\n",
      "  Accuracy\tPrecision\tRecall\tF1\tAUC\r\n",
      "  0.88\t\t0.70\t\t0.95\t0.80\t0.97\r\n",
      "\r\n",
      "\r\n",
      "Epoch: 4/20\r\n",
      "\r\n",
      "  Loss: 0.00647745357027255\r\n",
      "\r\n",
      "  Accuracy\tPrecision\tRecall\tF1\tAUC\r\n",
      "  0.87\t\t0.68\t\t0.93\t0.79\t0.95\r\n",
      "\r\n",
      "\r\n",
      "Epoch: 5/20\r\n",
      "\r\n",
      "  Loss: 0.008174563017612572\r\n",
      "\r\n",
      "  Accuracy\tPrecision\tRecall\tF1\tAUC\r\n",
      "  0.94\t\t0.86\t\t0.92\t0.89\t0.97\r\n",
      "\r\n",
      "\r\n",
      "Epoch: 6/20\r\n",
      "\r\n",
      "  Loss: 0.0021726084766168527\r\n",
      "\r\n",
      "  Accuracy\tPrecision\tRecall\tF1\tAUC\r\n",
      "  0.94\t\t0.85\t\t0.94\t0.89\t0.98\r\n",
      "\r\n",
      "\r\n",
      "Epoch: 7/20\r\n",
      "\r\n",
      "  Loss: 0.0016669146949410938\r\n",
      "\r\n",
      "  Accuracy\tPrecision\tRecall\tF1\tAUC\r\n",
      "  0.96\t\t0.95\t\t0.89\t0.92\t0.98\r\n",
      "\r\n",
      "\r\n",
      "Epoch: 8/20\r\n",
      "\r\n",
      "  Loss: 0.0030554159137084155\r\n",
      "\r\n",
      "  Accuracy\tPrecision\tRecall\tF1\tAUC\r\n",
      "  0.96\t\t0.92\t\t0.93\t0.92\t0.98\r\n",
      "\r\n",
      "\r\n",
      "Epoch: 9/20\r\n",
      "\r\n",
      "  Loss: 0.0018784214688823237\r\n",
      "\r\n",
      "  Accuracy\tPrecision\tRecall\tF1\tAUC\r\n",
      "  0.96\t\t0.92\t\t0.92\t0.92\t0.98\r\n",
      "\r\n",
      "\r\n",
      "Epoch: 10/20\r\n",
      "\r\n",
      "  Loss: 0.003958179089846515\r\n",
      "\r\n",
      "  Accuracy\tPrecision\tRecall\tF1\tAUC\r\n",
      "  0.92\t\t0.80\t\t0.93\t0.86\t0.98\r\n",
      "\r\n",
      "\r\n",
      "Epoch: 11/20\r\n",
      "\r\n",
      "  Loss: 0.0031941432026534157\r\n",
      "\r\n",
      "  Accuracy\tPrecision\tRecall\tF1\tAUC\r\n",
      "  0.95\t\t0.88\t\t0.94\t0.91\t0.98\r\n",
      "\r\n",
      "\r\n",
      "Epoch: 12/20\r\n",
      "\r\n",
      "  Loss: 0.0018694134168452416\r\n",
      "\r\n",
      "  Accuracy\tPrecision\tRecall\tF1\tAUC\r\n",
      "  0.96\t\t0.94\t\t0.90\t0.92\t0.98\r\n",
      "\r\n",
      "\r\n",
      "Epoch: 13/20\r\n",
      "\r\n",
      "  Loss: 0.0014186789200544476\r\n",
      "\r\n",
      "  Accuracy\tPrecision\tRecall\tF1\tAUC\r\n",
      "  0.96\t\t0.94\t\t0.89\t0.92\t0.98\r\n",
      "\r\n",
      "\r\n",
      "Epoch: 14/20\r\n",
      "\r\n",
      "  Loss: 0.002539891869944925\r\n",
      "\r\n",
      "  Accuracy\tPrecision\tRecall\tF1\tAUC\r\n",
      "  0.82\t\t0.60\t\t0.98\t0.74\t0.98\r\n",
      "\r\n",
      "\r\n",
      "Epoch: 15/20\r\n",
      "\r\n",
      "  Loss: 0.0011723154720272332\r\n",
      "\r\n",
      "  Accuracy\tPrecision\tRecall\tF1\tAUC\r\n",
      "  0.93\t\t0.83\t\t0.94\t0.88\t0.98\r\n",
      "\r\n",
      "\r\n",
      "Epoch: 16/20\r\n",
      "\r\n",
      "  Loss: 0.0015594528716793416\r\n",
      "\r\n",
      "  Accuracy\tPrecision\tRecall\tF1\tAUC\r\n",
      "  0.95\t\t0.90\t\t0.93\t0.91\t0.98\r\n",
      "\r\n",
      "\r\n",
      "Epoch: 17/20\r\n",
      "\r\n",
      "  Loss: 0.0019912632352263216\r\n",
      "\r\n",
      "  Accuracy\tPrecision\tRecall\tF1\tAUC\r\n",
      "  0.91\t\t0.76\t\t0.96\t0.85\t0.98\r\n",
      "\r\n",
      "\r\n",
      "Epoch: 18/20\r\n",
      "\r\n",
      "  Loss: 0.002846311789814143\r\n",
      "\r\n",
      "  Accuracy\tPrecision\tRecall\tF1\tAUC\r\n",
      "  0.95\t\t0.92\t\t0.90\t0.91\t0.98\r\n",
      "\r\n",
      "\r\n",
      "Epoch: 19/20\r\n",
      "\r\n",
      "  Loss: 0.0020322245715702976\r\n",
      "\r\n",
      "  Accuracy\tPrecision\tRecall\tF1\tAUC\r\n",
      "  0.95\t\t0.95\t\t0.88\t0.91\t0.98\r\n",
      "\r\n",
      "\r\n",
      "Epoch: 20/20\r\n",
      "\r\n",
      "  Loss: 0.002909123776289161\r\n",
      "\r\n",
      "  Accuracy\tPrecision\tRecall\tF1\tAUC\r\n",
      "  0.94\t\t0.95\t\t0.82\t0.88\t0.98\r\n",
      "\r\n",
      "\r\n"
     ]
    }
   ],
   "source": [
    "!python3 {trainfile} -b 16 -d {datapath} -c {checkpoints} -e 20 -l 0.005"
   ]
  },
  {
   "cell_type": "code",
   "execution_count": 6,
   "id": "5a55e618",
   "metadata": {
    "execution": {
     "iopub.execute_input": "2023-12-03T19:46:18.821740Z",
     "iopub.status.busy": "2023-12-03T19:46:18.821398Z",
     "iopub.status.idle": "2023-12-03T19:46:19.764494Z",
     "shell.execute_reply": "2023-12-03T19:46:19.763403Z"
    },
    "papermill": {
     "duration": 0.970415,
     "end_time": "2023-12-03T19:46:19.766962",
     "exception": false,
     "start_time": "2023-12-03T19:46:18.796547",
     "status": "completed"
    },
    "tags": []
   },
   "outputs": [
    {
     "name": "stdout",
     "output_type": "stream",
     "text": [
      "epoch_1.pt   epoch_13.pt  epoch_17.pt  epoch_20.pt  epoch_6.pt\r\n",
      "epoch_10.pt  epoch_14.pt  epoch_18.pt  epoch_3.pt   epoch_7.pt\r\n",
      "epoch_11.pt  epoch_15.pt  epoch_19.pt  epoch_4.pt   epoch_8.pt\r\n",
      "epoch_12.pt  epoch_16.pt  epoch_2.pt   epoch_5.pt   epoch_9.pt\r\n"
     ]
    }
   ],
   "source": [
    "!ls {checkpoints}"
   ]
  }
 ],
 "metadata": {
  "kaggle": {
   "accelerator": "gpu",
   "dataSources": [
    {
     "datasetId": 4098679,
     "sourceId": 7108987,
     "sourceType": "datasetVersion"
    }
   ],
   "dockerImageVersionId": 30588,
   "isGpuEnabled": true,
   "isInternetEnabled": true,
   "language": "python",
   "sourceType": "notebook"
  },
  "kernelspec": {
   "display_name": "Python 3",
   "language": "python",
   "name": "python3"
  },
  "language_info": {
   "codemirror_mode": {
    "name": "ipython",
    "version": 3
   },
   "file_extension": ".py",
   "mimetype": "text/x-python",
   "name": "python",
   "nbconvert_exporter": "python",
   "pygments_lexer": "ipython3",
   "version": "3.10.12"
  },
  "papermill": {
   "default_parameters": {},
   "duration": 2188.243368,
   "end_time": "2023-12-03T19:46:20.016188",
   "environment_variables": {},
   "exception": null,
   "input_path": "__notebook__.ipynb",
   "output_path": "__notebook__.ipynb",
   "parameters": {},
   "start_time": "2023-12-03T19:09:51.772820",
   "version": "2.4.0"
  }
 },
 "nbformat": 4,
 "nbformat_minor": 5
}
