{
 "cells": [
  {
   "cell_type": "code",
   "execution_count": null,
   "metadata": {},
   "outputs": [],
   "source": [
    "class LSTM_Malware(nn.Module):\n",
    "    def __init__(self, embedding_dim, hidden_dim):\n",
    "        super(LSTM_Malware, self).__init__()\n",
    "        self.hidden_dim = hidden_dim\n",
    "        self.embeddings = nn.Embedding(257, embedding_dim)\n",
    "        self.conv1 = nn.Conv1d(embedding_dim, hidden_dim, 20, 10)\n",
    "        self.maxpool1 = nn.MaxPool1d(2)\n",
    "        self.conv2 = nn.Conv1d(hidden_dim, hidden_dim, 10, 5)\n",
    "        self.maxpool2 = nn.MaxPool1d(2)\n",
    "        self.conv3 = nn.Conv1d(hidden_dim, hidden_dim, 10, 5)\n",
    "        self.maxpool3 = nn.MaxPool1d(2)\n",
    "        self.lstm = nn.LSTM(hidden_dim, hidden_dim, num_layers=2, bidirectional=True, batch_first=True)\n",
    "        self.hidden2label = nn.Linear(hidden_dim * 2, 1)\n",
    "        \n",
    "    def forward(self, x):\n",
    "        x = self.embeddings(x)\n",
    "        x = x.transpose(1, 2)\n",
    "        x = self.conv1(x)\n",
    "        x = self.maxpool1(x)\n",
    "        x = self.conv2(x)\n",
    "        x = self.maxpool2(x)\n",
    "        x = self.conv3(x)\n",
    "        x = self.maxpool3(x)\n",
    "        x = x.transpose(1, 2)\n",
    "\n",
    "        lstm_out, (h_n, c_n) = self.lstm(x)\n",
    "        last_hidden = torch.cat((h_n[-2,:,:], h_n[-1,:,:]), dim=1)\n",
    "        y = self.hidden2label(last_hidden)\n",
    "        return y"
   ]
  }
 ],
 "metadata": {
  "language_info": {
   "name": "python"
  }
 },
 "nbformat": 4,
 "nbformat_minor": 2
}
